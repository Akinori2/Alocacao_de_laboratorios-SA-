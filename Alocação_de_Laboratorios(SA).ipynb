{
  "cells": [
    {
      "cell_type": "markdown",
      "metadata": {
        "id": "view-in-github",
        "colab_type": "text"
      },
      "source": [
        "<a href=\"https://colab.research.google.com/github/Akinori2/Alocacao_de_laboratorios-SA-/blob/main/Aloca%C3%A7%C3%A3o_de_Laboratorios(SA).ipynb\" target=\"_parent\"><img src=\"https://colab.research.google.com/assets/colab-badge.svg\" alt=\"Open In Colab\"/></a>"
      ]
    },
    {
      "cell_type": "markdown",
      "metadata": {
        "id": "p8I1dxhcHoxz"
      },
      "source": [
        "Bibliotecas usadas"
      ]
    },
    {
      "cell_type": "code",
      "execution_count": 1129,
      "metadata": {
        "id": "nRSz7BbMmSB2"
      },
      "outputs": [],
      "source": [
        "import random\n",
        "import math\n",
        "from collections import defaultdict"
      ]
    },
    {
      "cell_type": "markdown",
      "metadata": {
        "id": "SoVYJDZdHrk4"
      },
      "source": [
        "Dados das matérias padronizados"
      ]
    },
    {
      "cell_type": "code",
      "execution_count": 1130,
      "metadata": {
        "id": "KPh4jRddmX9c"
      },
      "outputs": [],
      "source": [
        "materias = {\n",
        "    # Importancia 3 - 8 matérias\n",
        "    'Programação 1': {'alunos': 60, 'pratica': True, 'importancia': 3, 'periodo': 1},\n",
        "    'Algoritmos e Complexidade': {'alunos': 50, 'pratica': True, 'importancia': 3, 'periodo': 2},\n",
        "    'Estruturas de Dados': {'alunos': 50, 'pratica': True, 'importancia': 3, 'periodo': 3},\n",
        "    'Banco de Dados': {'alunos': 40, 'pratica': True, 'importancia': 3, 'periodo': 4},\n",
        "    'Redes de Computadores': {'alunos': 30, 'pratica': True, 'importancia': 3, 'periodo': 5},\n",
        "    'Inteligência Artificial': {'alunos': 20, 'pratica': True, 'importancia': 3, 'periodo': 6},\n",
        "    'Desenvolvimento de Software': {'alunos': 30, 'pratica': True, 'importancia': 3, 'periodo': 7},\n",
        "    'Projeto de TCC': {'alunos': 10, 'pratica': True, 'importancia': 3, 'periodo': 8},\n",
        "\n",
        "    # Importancia 2 - 8 matérias\n",
        "    'Lógica para Computação': {'alunos': 50, 'pratica': False, 'importancia': 2, 'periodo': 1},\n",
        "    'Arquitetura de Computadores': {'alunos': 40, 'pratica': True, 'importancia': 2, 'periodo': 2},\n",
        "    'Sistemas Operacionais': {'alunos': 40, 'pratica': True, 'importancia': 2, 'periodo': 3},\n",
        "    'Engenharia de Software': {'alunos': 40, 'pratica': True, 'importancia': 2, 'periodo': 4},\n",
        "    'Segurança da Informação': {'alunos': 30, 'pratica': True, 'importancia': 2, 'periodo': 5},\n",
        "    'Computação em Nuvem': {'alunos': 25, 'pratica': True, 'importancia': 2, 'periodo': 6},\n",
        "    'Computação Gráfica': {'alunos': 20, 'pratica': True, 'importancia': 2, 'periodo': 7},\n",
        "    'Projeto Integrador': {'alunos': 15, 'pratica': True, 'importancia': 2, 'periodo': 8},\n",
        "\n",
        "    # Importancia 1 - 8 matérias\n",
        "    'Introdução à Computação': {'alunos': 60, 'pratica': False, 'importancia': 1, 'periodo': 1},\n",
        "    'Matemática Discreta': {'alunos': 50, 'pratica': False, 'importancia': 1, 'periodo': 2},\n",
        "    'Álgebra Linear': {'alunos': 40, 'pratica': False, 'importancia': 1, 'periodo': 3},\n",
        "    'Cálculo Numérico': {'alunos': 35, 'pratica': False, 'importancia': 1, 'periodo': 4},\n",
        "    'Teoria da Computação': {'alunos': 30, 'pratica': False, 'importancia': 1, 'periodo': 5},\n",
        "    'Sistemas Digitais': {'alunos': 30, 'pratica': True, 'importancia': 1, 'periodo': 6},\n",
        "    'Ética na Computação': {'alunos': 40, 'pratica': False, 'importancia': 1, 'periodo': 7},\n",
        "    'Empreendedorismo em TI': {'alunos': 35, 'pratica': False, 'importancia': 1, 'periodo': 8}\n",
        "}\n"
      ]
    },
    {
      "cell_type": "markdown",
      "metadata": {
        "id": "4FAPCBe6Htjx"
      },
      "source": [
        "salas disponiveis"
      ]
    },
    {
      "cell_type": "code",
      "execution_count": 1131,
      "metadata": {
        "id": "-0FI-gQFmlZ_"
      },
      "outputs": [],
      "source": [
        "salas = {\n",
        "    'Sala Grande': {'limite': 60, 'tipo': 'normal'},\n",
        "    'Sala Pequena': {'limite': 25, 'tipo': 'especial'}\n",
        "}"
      ]
    },
    {
      "cell_type": "markdown",
      "metadata": {
        "id": "yqK3kebXHvyP"
      },
      "source": [
        "horarios disponiveis"
      ]
    },
    {
      "cell_type": "code",
      "execution_count": 1132,
      "metadata": {
        "id": "gzDSP33o1gKx"
      },
      "outputs": [],
      "source": [
        "horarios = ['Manhã (8-10)', 'Tarde (10-12)']\n",
        "dias_semana = ['Segunda', 'Terça', 'Quarta', 'Quinta', 'Sexta']"
      ]
    },
    {
      "cell_type": "markdown",
      "metadata": {
        "id": "7c2A1pSxHyIa"
      },
      "source": [
        "Divide as matérias priorizando importância maior na sala pequena"
      ]
    },
    {
      "cell_type": "code",
      "execution_count": 1133,
      "metadata": {
        "id": "ddBuCN381j5o"
      },
      "outputs": [],
      "source": [
        "def separar_materias():\n",
        "    materias_grande = []\n",
        "    materias_pequena = []\n",
        "\n",
        "    for nome, info in materias.items():\n",
        "        if not info['pratica']:\n",
        "            continue\n",
        "\n",
        "        # Prioriza alocar matérias importantes na sala pequena\n",
        "        if info['alunos'] <= salas['Sala Pequena']['limite']:\n",
        "            if info['importancia'] >= 2:  # Matérias de média/alta importância\n",
        "                materias_pequena.append(nome)\n",
        "            elif info['importancia'] == 1 and info['alunos'] > salas['Sala Grande']['limite']:\n",
        "                materias_pequena.append(nome)\n",
        "        elif info['alunos'] <= salas['Sala Grande']['limite']:\n",
        "            materias_grande.append(nome)\n",
        "\n",
        "    return materias_grande, materias_pequena"
      ]
    },
    {
      "cell_type": "markdown",
      "source": [
        "Garante matérias suficientes sem repetir"
      ],
      "metadata": {
        "id": "kYwEJA3wRF-P"
      }
    },
    {
      "cell_type": "code",
      "source": [
        "def completar_horarios(lista_materias, sala):\n",
        "    total_needed = len(dias_semana) * len(horarios)\n",
        "    disponiveis = lista_materias.copy()\n",
        "\n",
        "    # Pega matérias não usadas que se encaixam\n",
        "    for nome, info in materias.items():\n",
        "        if (nome not in disponiveis and info['pratica'] and\n",
        "            info['alunos'] <= salas[sala]['limite']):\n",
        "            disponiveis.append(nome)\n",
        "            if len(disponiveis) >= total_needed:\n",
        "                break\n",
        "\n",
        "    # Se ainda faltar, pega as que se encaixam mesmo não sendo ideais\n",
        "    if len(disponiveis) < total_needed:\n",
        "        for nome, info in materias.items():\n",
        "            if nome not in disponiveis and info['pratica']:\n",
        "                disponiveis.append(nome)\n",
        "                if len(disponiveis) >= total_needed:\n",
        "                    break\n",
        "\n",
        "    return disponiveis[:total_needed]"
      ],
      "metadata": {
        "id": "mqOjSXNURCfp"
      },
      "execution_count": 1134,
      "outputs": []
    },
    {
      "cell_type": "markdown",
      "metadata": {
        "id": "_9y89S8RH0ed"
      },
      "source": [
        "Cria grade inicial válida"
      ]
    },
    {
      "cell_type": "code",
      "execution_count": 1135,
      "metadata": {
        "id": "Gc9qgpbGmnLv"
      },
      "outputs": [],
      "source": [
        "def criar_grade_inicial():\n",
        "    materias_g, materias_p = separar_materias()\n",
        "    materias_g = completar_horarios(materias_g, 'Sala Grande')\n",
        "    materias_p = completar_horarios(materias_p, 'Sala Pequena')\n",
        "\n",
        "    random.shuffle(materias_g)\n",
        "    random.shuffle(materias_p)\n",
        "\n",
        "    grade = {}\n",
        "    for dia in dias_semana:\n",
        "        for horario in horarios:\n",
        "            if materias_g:\n",
        "                grade[('Sala Grande', dia, horario)] = materias_g.pop()\n",
        "            if materias_p:\n",
        "                grade[('Sala Pequena', dia, horario)] = materias_p.pop()\n",
        "\n",
        "    return grade"
      ]
    },
    {
      "cell_type": "markdown",
      "metadata": {
        "id": "jXOtLHzjH2fn"
      },
      "source": [
        "Calcula qualidade com forte penalidade se importância média da pequena não for maior"
      ]
    },
    {
      "cell_type": "code",
      "execution_count": 1136,
      "metadata": {
        "id": "lXEvHiqHmoZK"
      },
      "outputs": [],
      "source": [
        "def avaliar_grade(grade):\n",
        "    \"\"\"Calcula qualidade com forte penalidade se importância média da pequena não for maior\"\"\"\n",
        "    pontos = 0\n",
        "    contagem = defaultdict(int)\n",
        "    soma_importancia = {'Sala Grande': 0, 'Sala Pequena': 0}\n",
        "    contagem_salas = {'Sala Grande': 0, 'Sala Pequena': 0}\n",
        "\n",
        "    for (sala, _, _), materia in grade.items():\n",
        "        info = materias[materia]\n",
        "        contagem[materia] += 1\n",
        "        soma_importancia[sala] += info['importancia']\n",
        "        contagem_salas[sala] += 1\n",
        "\n",
        "        # Verifica regras básicas\n",
        "        if info['alunos'] > salas[sala]['limite']:\n",
        "            pontos += 30\n",
        "        if contagem[materia] > 1:\n",
        "            pontos += 50\n",
        "\n",
        "    # Calcula médias\n",
        "    media_grande = soma_importancia['Sala Grande'] / max(1, contagem_salas['Sala Grande'])\n",
        "    media_pequena = soma_importancia['Sala Pequena'] / max(1, contagem_salas['Sala Pequena'])\n",
        "\n",
        "    # Penalidade pesada se a média da pequena não for maior\n",
        "    if media_pequena <= media_grande:\n",
        "        pontos += 100 * (media_grande - media_pequena + 0.5)\n",
        "\n",
        "    return pontos"
      ]
    },
    {
      "cell_type": "markdown",
      "metadata": {
        "id": "VsUFpcn5H4nN"
      },
      "source": [
        "Cria pequena mudança na grade"
      ]
    },
    {
      "cell_type": "code",
      "execution_count": 1137,
      "metadata": {
        "id": "Wc8HtwQSmqCb"
      },
      "outputs": [],
      "source": [
        "def gerar_variacao(grade):\n",
        "    nova_grade = grade.copy()\n",
        "    chaves = list(nova_grade.keys())\n",
        "\n",
        "    if len(chaves) >= 2:\n",
        "        i, j = random.sample(range(len(chaves)), 2)\n",
        "        chave1, chave2 = chaves[i], chaves[j]\n",
        "        nova_grade[chave1], nova_grade[chave2] = nova_grade[chave2], nova_grade[chave1]\n",
        "\n",
        "    return nova_grade"
      ]
    },
    {
      "cell_type": "markdown",
      "metadata": {
        "id": "luZUsfvPIT8B"
      },
      "source": [
        "Otimiza a grade com foco na diferença de importância"
      ]
    },
    {
      "cell_type": "code",
      "execution_count": 1138,
      "metadata": {
        "id": "1BC0MOe3msgS"
      },
      "outputs": [],
      "source": [
        "def melhorar_grade():\n",
        "    melhor = criar_grade_inicial()\n",
        "    melhor_pontos = avaliar_grade(melhor)\n",
        "    temp = 1000\n",
        "\n",
        "    for passo in range(1, 15001):  # Aumentei as iterações\n",
        "        nova = gerar_variacao(melhor)\n",
        "        pontos = avaliar_grade(nova)\n",
        "\n",
        "        if pontos < melhor_pontos or random.random() < math.exp((melhor_pontos - pontos)/temp):\n",
        "            melhor, melhor_pontos = nova, pontos\n",
        "\n",
        "        temp *= 0.999  # Resfriamento mais lento\n",
        "\n",
        "        if passo % 2000 == 0:\n",
        "            # Mostra estatísticas parciais\n",
        "            sg = [m for (s,_,_), m in melhor.items() if s == 'Sala Grande']\n",
        "            sp = [m for (s,_,_), m in melhor.items() if s == 'Sala Pequena']\n",
        "            mg = sum(materias[m]['importancia'] for m in sg)/len(sg) if sg else 0\n",
        "            mp = sum(materias[m]['importancia'] for m in sp)/len(sp) if sp else 0\n",
        "            print(f\"Passo {passo}: Pontos={melhor_pontos} | Médias: Grande={mg:.2f}, Pequena={mp:.2f}\")\n",
        "\n",
        "    return melhor"
      ]
    },
    {
      "cell_type": "markdown",
      "metadata": {
        "id": "kX8fVgrvIl6H"
      },
      "source": [
        "Exibe a grade formatada"
      ]
    },
    {
      "cell_type": "code",
      "execution_count": 1139,
      "metadata": {
        "id": "ViK4BFxYm1uF"
      },
      "outputs": [],
      "source": [
        "def mostrar_resultado(grade):\n",
        "    \"\"\"Exibe a grade formatada\"\"\"\n",
        "    for sala in salas:\n",
        "        print(f\"\\n{sala} ({salas[sala]['limite']} alunos)\")\n",
        "        print(\"-\" * 50)\n",
        "        print(f\"{'Dia':<10} | {'Manhã':<20} | {'Tarde':<20}\")\n",
        "        print(\"-\" * 50)\n",
        "\n",
        "        for dia in dias_semana:\n",
        "            linha = f\"{dia:<10} | \"\n",
        "            for horario in horarios:\n",
        "                materia = grade.get((sala, dia, horario), \"VAZIO\")\n",
        "                info = materias.get(materia, {})\n",
        "\n",
        "                if sala == 'Sala Grande' and info.get('importancia', 0) > 1:\n",
        "                    materia = f\"*{materia}*\"\n",
        "                elif sala == 'Sala Pequena' and info.get('importancia', 0) < 2:\n",
        "                    materia = f\"*{materia}*\"\n",
        "\n",
        "                linha += f\"{materia:<20} | \"\n",
        "            print(linha)\n",
        "        print(\"-\" * 50)"
      ]
    },
    {
      "cell_type": "markdown",
      "metadata": {
        "id": "R_q6FLTaItGj"
      },
      "source": [
        "Execução"
      ]
    },
    {
      "cell_type": "code",
      "execution_count": 1140,
      "metadata": {
        "id": "hpgjd3s5IpAO",
        "colab": {
          "base_uri": "https://localhost:8080/"
        },
        "collapsed": true,
        "outputId": "c2c06cdc-e150-4c6e-d724-736aca49aa60"
      },
      "outputs": [
        {
          "output_type": "stream",
          "name": "stdout",
          "text": [
            "Passo 2000: Pontos=490.0 | Médias: Grande=2.70, Pequena=2.60\n",
            "Passo 4000: Pontos=430 | Médias: Grande=2.60, Pequena=2.70\n",
            "Passo 6000: Pontos=400 | Médias: Grande=2.60, Pequena=2.70\n",
            "Passo 8000: Pontos=400 | Médias: Grande=2.60, Pequena=2.70\n",
            "Passo 10000: Pontos=400 | Médias: Grande=2.60, Pequena=2.70\n",
            "Passo 12000: Pontos=400 | Médias: Grande=2.60, Pequena=2.70\n",
            "Passo 14000: Pontos=400 | Médias: Grande=2.60, Pequena=2.70\n",
            "\n",
            "Resultado final:\n",
            "\n",
            "Sala Grande (60 alunos)\n",
            "--------------------------------------------------\n",
            "Dia        | Manhã                | Tarde               \n",
            "--------------------------------------------------\n",
            "Segunda    | *Banco de Dados*     | *Sistemas Operacionais* | \n",
            "Terça      | *Algoritmos e Complexidade* | *Redes de Computadores* | \n",
            "Quarta     | *Arquitetura de Computadores* | *Programação 1*      | \n",
            "Quinta     | *Segurança da Informação* | *Engenharia de Software* | \n",
            "Sexta      | *Algoritmos e Complexidade* | *Redes de Computadores* | \n",
            "--------------------------------------------------\n",
            "\n",
            "Sala Pequena (25 alunos)\n",
            "--------------------------------------------------\n",
            "Dia        | Manhã                | Tarde               \n",
            "--------------------------------------------------\n",
            "Segunda    | Projeto de TCC       | Programação 1        | \n",
            "Terça      | Inteligência Artificial | Desenvolvimento de Software | \n",
            "Quarta     | Computação em Nuvem  | Estruturas de Dados  | \n",
            "Quinta     | Projeto Integrador   | Estruturas de Dados  | \n",
            "Sexta      | Banco de Dados       | Computação Gráfica   | \n",
            "--------------------------------------------------\n"
          ]
        }
      ],
      "source": [
        "print(\"Otimizando grade de horários...\")\n",
        "grade_otimizada = melhorar_grade()\n",
        "\n",
        "print(\"\\nResultado final:\")\n",
        "mostrar_resultado(grade_otimizada)"
      ]
    },
    {
      "cell_type": "markdown",
      "metadata": {
        "id": "SKiUBFa2Iwvu"
      },
      "source": [
        "Estatísticas"
      ]
    },
    {
      "cell_type": "code",
      "execution_count": 1141,
      "metadata": {
        "colab": {
          "base_uri": "https://localhost:8080/"
        },
        "id": "q3SHHR5Am3J4",
        "outputId": "68f481ee-8759-473c-f0f3-517158fd4c5b"
      },
      "outputs": [
        {
          "output_type": "stream",
          "name": "stdout",
          "text": [
            "\n",
            "Estatísticas:\n",
            "\n",
            "Sala Grande:\n",
            "- Aulas: 10\n",
            "- Matérias únicas: 8\n",
            "- Importância média: 2.6\n",
            "\n",
            "Sala Pequena:\n",
            "- Aulas: 10\n",
            "- Matérias únicas: 9\n",
            "- Importância média: 2.7\n"
          ]
        }
      ],
      "source": [
        "print(\"\\nEstatísticas:\")\n",
        "for sala in salas:\n",
        "    aulas = [m for (s,_,_), m in grade_otimizada.items() if s == sala]\n",
        "    print(f\"\\n{sala}:\")\n",
        "    print(f\"- Aulas: {len(aulas)}\")\n",
        "    print(f\"- Matérias únicas: {len(set(aulas))}\")\n",
        "    print(f\"- Importância média: {sum(materias[m]['importancia'] for m in aulas)/len(aulas):.1f}\")"
      ]
    }
  ],
  "metadata": {
    "colab": {
      "provenance": [],
      "authorship_tag": "ABX9TyMBCZLD8HXQRz4DeX/h5AhB",
      "include_colab_link": true
    },
    "kernelspec": {
      "display_name": "Python 3",
      "name": "python3"
    },
    "language_info": {
      "name": "python"
    }
  },
  "nbformat": 4,
  "nbformat_minor": 0
}