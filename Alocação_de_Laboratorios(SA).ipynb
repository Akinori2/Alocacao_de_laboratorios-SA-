{
  "cells": [
    {
      "cell_type": "markdown",
      "metadata": {
        "id": "view-in-github",
        "colab_type": "text"
      },
      "source": [
        "<a href=\"https://colab.research.google.com/github/Akinori2/Alocacao_de_laboratorios-SA-/blob/main/Aloca%C3%A7%C3%A3o_de_Laboratorios(SA).ipynb\" target=\"_parent\"><img src=\"https://colab.research.google.com/assets/colab-badge.svg\" alt=\"Open In Colab\"/></a>"
      ]
    },
    {
      "cell_type": "markdown",
      "metadata": {
        "id": "p8I1dxhcHoxz"
      },
      "source": [
        "Bibliotecas usadas"
      ]
    },
    {
      "cell_type": "code",
      "execution_count": null,
      "metadata": {
        "colab": {
          "background_save": true
        },
        "id": "nRSz7BbMmSB2"
      },
      "outputs": [],
      "source": [
        "import random\n",
        "import math\n",
        "from collections import defaultdict"
      ]
    },
    {
      "cell_type": "markdown",
      "metadata": {
        "id": "SoVYJDZdHrk4"
      },
      "source": [
        "Dados das disciplinas (prioridade, período, tipo prática, etc.)"
      ]
    },
    {
      "cell_type": "code",
      "execution_count": null,
      "metadata": {
        "colab": {
          "background_save": true
        },
        "id": "KPh4jRddmX9c"
      },
      "outputs": [],
      "source": [
        "disciplinas = {\n",
        "    'Introdução à Programação': {'periodo': 1, 'alunos': 60, 'pratica': True, 'prioridade':2},\n",
        "    'Álgebra Linear': {'periodo': 2, 'alunos': 50, 'pratica': False, 'prioridade':1},\n",
        "    'Introdução à Computação': {'periodo': 2, 'alunos': 40, 'pratica': True, 'prioridade':2},\n",
        "    'Programação Orientada a Objetos': {'periodo': 3, 'alunos': 40, 'pratica': True, 'prioridade':2},\n",
        "    'Cálculo Diferencial': {'periodo': 2, 'alunos': 40, 'pratica': False, 'prioridade':1},\n",
        "    'Cálculo Integral': {'periodo': 2, 'alunos': 40, 'pratica': False, 'prioridade':1},\n",
        "    'Lógica de Programação': {'periodo': 4, 'alunos': 40, 'pratica': True, 'prioridade':2},\n",
        "    'Cálculo Integral': {'periodo': 4, 'alunos': 40, 'pratica': False, 'prioridade':1},\n",
        "    'Geometria Analítica': {'periodo': 5, 'alunos': 30, 'pratica': False, 'prioridade':1},\n",
        "    'Probabilidade e Estatística': {'periodo': 6, 'alunos': 30, 'pratica': False, 'prioridade':1},\n",
        "    'Programação 1': {'periodo': 1, 'alunos': 60, 'pratica': True, 'prioridade':3},\n",
        "    'Estruturas de Dados': {'periodo': 2, 'alunos': 50, 'pratica': True, 'prioridade':3},\n",
        "    'Algoritmos Avançados': {'periodo': 3, 'alunos': 40, 'pratica': True, 'prioridade':3},\n",
        "    'Banco de Dados': {'periodo': 4, 'alunos': 40, 'pratica': True, 'prioridade':3},\n",
        "    'Sistemas Operacionais': {'periodo': 5, 'alunos': 30, 'pratica': True, 'prioridade':2},\n",
        "    'Arquitetura de Software': {'periodo': 6, 'alunos': 30, 'pratica': True, 'prioridade':3},\n",
        "    'Engenharia de Software': {'periodo': 6, 'alunos': 30, 'pratica': True, 'prioridade':1},\n",
        "    'Arquitetura de Computadores': {'periodo': 7, 'alunos': 20, 'pratica': True, 'prioridade':1},\n",
        "    'Redes de Computadores': {'periodo': 8, 'alunos': 20, 'pratica': True, 'prioridade':3},\n",
        "    'Inteligência Artificial': {'periodo': 8, 'alunos': 10, 'pratica': True, 'prioridade':3},\n",
        "    'Computação Gráfica': {'periodo': 8, 'alunos': 10, 'pratica': True, 'prioridade':2},\n",
        "    'Segurança da Informação': {'periodo': 8, 'alunos': 10, 'pratica': True, 'prioridade':3},\n",
        "    'Fundamentos de Matemática Discreta': {'periodo': 1, 'alunos': 60, 'pratica': False, 'prioridade':1},\n",
        "    'Computação em Nuvem': {'periodo': 8, 'alunos': 10, 'pratica': True, 'prioridade':3},\n",
        "    'Organização de Computadores': {'periodo': 2, 'alunos': 50, 'pratica': True, 'prioridade':1},\n",
        "    'Machine Learning': {'periodo': 5, 'alunos': 20, 'pratica': True, 'prioridade':3},\n",
        "}"
      ]
    },
    {
      "cell_type": "markdown",
      "metadata": {
        "id": "4FAPCBe6Htjx"
      },
      "source": [
        "Horários e dias disponíveis para alocação"
      ]
    },
    {
      "cell_type": "code",
      "execution_count": null,
      "metadata": {
        "colab": {
          "background_save": true
        },
        "id": "-0FI-gQFmlZ_"
      },
      "outputs": [],
      "source": [
        "horarios = ['08:00-10:00', '10:00-12:00']\n",
        "dias = ['Segunda', 'Terça', 'Quarta', 'Quinta', 'Sexta']"
      ]
    },
    {
      "cell_type": "markdown",
      "metadata": {
        "id": "yqK3kebXHvyP"
      },
      "source": [
        "Laboratórios disponíveis (capacidade e infraestrutura)"
      ]
    },
    {
      "cell_type": "code",
      "execution_count": null,
      "metadata": {
        "colab": {
          "background_save": true
        },
        "id": "gzDSP33o1gKx"
      },
      "outputs": [],
      "source": [
        "laboratorios = {\n",
        "    'Lab 101': {'capacidade': 60, 'prioridade': 'baixa'},\n",
        "    'Lab 102': {'capacidade': 25, 'prioridade': 'media/alta'}\n",
        "}"
      ]
    },
    {
      "cell_type": "markdown",
      "metadata": {
        "id": "7c2A1pSxHyIa"
      },
      "source": [
        "Classifica disciplinas por capacidade do laboratório conforme prioridades"
      ]
    },
    {
      "cell_type": "code",
      "execution_count": null,
      "metadata": {
        "colab": {
          "background_save": true
        },
        "id": "ddBuCN381j5o"
      },
      "outputs": [],
      "source": [
        "def classificar_disciplinas():\n",
        "    lab1 = []\n",
        "    lab2 = []\n",
        "\n",
        "    for nome, dados in disciplinas.items():\n",
        "        if not dados['pratica']:\n",
        "            continue\n",
        "\n",
        "        if dados['alunos'] <= laboratorios['Lab 102']['capacidade']:\n",
        "            # Lab 2: prioridade média/alta (2-3)\n",
        "            if dados['prioridade'] >= 2:\n",
        "                lab2.append(nome)\n",
        "            # Se não tiver prioridade suficiente, vai para Lab 1 se couber\n",
        "            elif dados['alunos'] <= laboratorios['Lab 101']['capacidade']:\n",
        "                lab1.append(nome)\n",
        "        elif dados['alunos'] <= laboratorios['Lab 101']['capacidade']:\n",
        "            # Lab 1: prioridade baixa (1)\n",
        "            if dados['prioridade'] == 1:\n",
        "                lab1.append(nome)\n",
        "\n",
        "    return lab1, lab2"
      ]
    },
    {
      "cell_type": "markdown",
      "source": [
        "Completa com disciplinas extras se necessário"
      ],
      "metadata": {
        "id": "kYwEJA3wRF-P"
      }
    },
    {
      "cell_type": "code",
      "source": [
        "def completar_horarios(disciplinas_disponiveis, lab):\n",
        "    total_horarios = len(dias) * len(horarios)\n",
        "    faltam = total_horarios - len(disciplinas_disponiveis)\n",
        "\n",
        "    if faltam > 0:\n",
        "        # Pega disciplinas de outro laboratório que caibam\n",
        "        for nome, dados in disciplinas.items():\n",
        "            if (nome not in disciplinas_disponiveis and\n",
        "                dados['pratica'] and\n",
        "                dados['alunos'] <= laboratorios[lab]['capacidade']):\n",
        "                disciplinas_disponiveis.append(nome)\n",
        "                faltam -= 1\n",
        "                if faltam == 0:\n",
        "                    break\n",
        "\n",
        "        # Se ainda faltar, duplica disciplinas existentes\n",
        "        if faltam > 0:\n",
        "            disciplinas_disponiveis.extend(random.choices(disciplinas_disponiveis, k=faltam))\n",
        "\n",
        "    return disciplinas_disponiveis"
      ],
      "metadata": {
        "id": "mqOjSXNURCfp"
      },
      "execution_count": null,
      "outputs": []
    },
    {
      "cell_type": "markdown",
      "metadata": {
        "id": "_9y89S8RH0ed"
      },
      "source": [
        "Gera solução inicial"
      ]
    },
    {
      "cell_type": "code",
      "execution_count": null,
      "metadata": {
        "colab": {
          "background_save": true
        },
        "id": "Gc9qgpbGmnLv"
      },
      "outputs": [],
      "source": [
        "def gerar_solucao_inicial():\n",
        "    lab1, lab2 = classificar_disciplinas()\n",
        "\n",
        "    # Garante que temos disciplinas suficientes\n",
        "    lab1 = completar_horarios(lab1, 'Lab 101')\n",
        "    lab2 = completar_horarios(lab2, 'Lab 102')\n",
        "\n",
        "    random.shuffle(lab1)\n",
        "    random.shuffle(lab2)\n",
        "\n",
        "    solucao = {}\n",
        "    for dia in dias:\n",
        "        for horario in horarios:\n",
        "            if lab1:\n",
        "                solucao[('Lab 101', dia, horario)] = lab1.pop()\n",
        "            if lab2:\n",
        "                solucao[('Lab 102', dia, horario)] = lab2.pop()\n",
        "\n",
        "    return solucao"
      ]
    },
    {
      "cell_type": "markdown",
      "metadata": {
        "id": "jXOtLHzjH2fn"
      },
      "source": [
        "Função de custo (soma das prioridades das disciplinas alocadas e aplica penalidade para restrições violadas)"
      ]
    },
    {
      "cell_type": "code",
      "execution_count": null,
      "metadata": {
        "colab": {
          "background_save": true
        },
        "id": "lXEvHiqHmoZK"
      },
      "outputs": [],
      "source": [
        "def calcular_custo(solucao):\n",
        "    custo = 0\n",
        "    contagem = defaultdict(int)\n",
        "\n",
        "    for (lab, dia, horario), disciplina in solucao.items():\n",
        "        dados = disciplinas[disciplina]\n",
        "\n",
        "        # Penalidade por prioridade incorreta\n",
        "        if lab == 'Lab 101' and dados['prioridade'] > 1:\n",
        "            custo += 5\n",
        "        if lab == 'Lab 102' and dados['prioridade'] < 2:\n",
        "            custo += 10\n",
        "\n",
        "        # Penalidade por capacidade excedida\n",
        "        if dados['alunos'] > laboratorios[lab]['capacidade']:\n",
        "            custo += 20\n",
        "\n",
        "        # Conta uso de cada disciplina\n",
        "        contagem[disciplina] += 1\n",
        "\n",
        "    # Penalidade por disciplinas repetidas\n",
        "    for disciplina, count in contagem.items():\n",
        "        if count > 1:\n",
        "            custo += 3 * (count - 1)\n",
        "\n",
        "    return custo"
      ]
    },
    {
      "cell_type": "markdown",
      "metadata": {
        "id": "VsUFpcn5H4nN"
      },
      "source": [
        "Gera solução vizinha mantendo todos horários preenchidos"
      ]
    },
    {
      "cell_type": "code",
      "execution_count": null,
      "metadata": {
        "colab": {
          "background_save": true
        },
        "id": "Wc8HtwQSmqCb"
      },
      "outputs": [],
      "source": [
        "def gerar_vizinho(solucao):\n",
        "    vizinho = solucao.copy()\n",
        "    chaves = list(vizinho.keys())\n",
        "\n",
        "    # Escolhe duas chaves aleatórias para trocar\n",
        "    chave1, chave2 = random.sample(chaves, 2)\n",
        "    vizinho[chave1], vizinho[chave2] = vizinho[chave2], vizinho[chave1]\n",
        "\n",
        "    return vizinho"
      ]
    },
    {
      "cell_type": "markdown",
      "metadata": {
        "id": "luZUsfvPIT8B"
      },
      "source": [
        "Algoritmo Simulated Annealing"
      ]
    },
    {
      "cell_type": "code",
      "execution_count": null,
      "metadata": {
        "colab": {
          "background_save": true
        },
        "id": "1BC0MOe3msgS"
      },
      "outputs": [],
      "source": [
        "def simulated_annealing(temp_inicial, resfriamento, iteracoes):\n",
        "    solucao_atual = gerar_solucao_inicial()\n",
        "    custo_atual = calcular_custo(solucao_atual)\n",
        "    melhor_solucao, melhor_custo = solucao_atual.copy(), custo_atual\n",
        "    temperatura = temp_inicial\n",
        "\n",
        "    for i in range(iteracoes):\n",
        "        vizinho = gerar_vizinho(solucao_atual)\n",
        "        custo_vizinho = calcular_custo(vizinho)\n",
        "\n",
        "        # Critério de aceitação\n",
        "        if custo_vizinho < custo_atual or random.random() < math.exp((custo_atual - custo_vizinho)/temperatura):\n",
        "            solucao_atual, custo_atual = vizinho, custo_vizinho\n",
        "\n",
        "            if custo_vizinho < melhor_custo:\n",
        "                melhor_solucao, melhor_custo = vizinho.copy(), custo_vizinho\n",
        "\n",
        "        temperatura *= resfriamento\n",
        "\n",
        "        if i % 1000 == 0:\n",
        "            print(f\"Iteração {i}: Temp={temperatura:.1f}, Custo={melhor_custo}\")\n",
        "\n",
        "    return melhor_solucao"
      ]
    },
    {
      "cell_type": "markdown",
      "metadata": {
        "id": "kX8fVgrvIl6H"
      },
      "source": [
        "Exibe a grade horária formatada"
      ]
    },
    {
      "cell_type": "code",
      "execution_count": null,
      "metadata": {
        "id": "ViK4BFxYm1uF"
      },
      "outputs": [],
      "source": [
        "def exibir_tabela(alocacao):\n",
        "    \"\"\"Exibe tabela formatada de forma polida\"\"\"\n",
        "    # Organiza dados por laboratório\n",
        "    tabela = {lab: {dia: {horario: None for horario in horarios} for dia in dias}\n",
        "              for lab in laboratorios}\n",
        "\n",
        "    for (lab, dia, horario), disciplina in alocacao.items():\n",
        "        tabela[lab][dia][horario] = disciplina\n",
        "\n",
        "    # Imprime tabela\n",
        "    for lab in laboratorios:\n",
        "        print(f\"\\n\\033[1m{lab} (Capacidade: {laboratorios[lab]['capacidade']})\\033[0m\")\n",
        "        print(\"+\" + \"-\"*58 + \"+\")\n",
        "        print(f\"| {'Dia':<10} | {'08:00-10:00':<20} | {'10:00-12:00':<20} |\")\n",
        "        print(\"+\" + \"-\"*58 + \"+\")\n",
        "\n",
        "        for dia in dias:\n",
        "            linha = f\"| {dia:<10} | \"\n",
        "            for horario in horarios:\n",
        "                disc = tabela[lab][dia][horario]\n",
        "                # Destaque disciplinas fora do padrão\n",
        "                if lab == 'Lab 101' and disciplinas[disc]['prioridade'] > 1:\n",
        "                    disc = f\"\\033[33m{disc}\\033[0m\"  # Amarelo\n",
        "                elif lab == 'Lab 102' and disciplinas[disc]['prioridade'] < 2:\n",
        "                    disc = f\"\\033[33m{disc}\\033[0m\"  # Amarelo\n",
        "                linha += f\"{disc:<20} | \"\n",
        "            print(linha)\n",
        "        print(\"+\" + \"-\"*58 + \"+\")"
      ]
    },
    {
      "cell_type": "markdown",
      "metadata": {
        "id": "R_q6FLTaItGj"
      },
      "source": [
        "Parâmetros do SA (ajustáveis)"
      ]
    },
    {
      "cell_type": "code",
      "execution_count": null,
      "metadata": {
        "id": "hpgjd3s5IpAO"
      },
      "outputs": [],
      "source": [
        "print(\"\\n\\033[1mProcessando alocação...\\033[0m\")\n",
        "melhor_alocacao = simulated_annealing(\n",
        "    temp_inicial=10000,\n",
        "    resfriamento=0.999,\n",
        "    iteracoes=20000\n",
        ")"
      ]
    },
    {
      "cell_type": "markdown",
      "metadata": {
        "id": "SKiUBFa2Iwvu"
      },
      "source": [
        "Execução e exibição"
      ]
    },
    {
      "cell_type": "code",
      "execution_count": null,
      "metadata": {
        "colab": {
          "base_uri": "https://localhost:8080/"
        },
        "id": "q3SHHR5Am3J4",
        "outputId": "318dd278-ea1b-46be-9e37-0d358590d060"
      },
      "outputs": [
        {
          "name": "stdout",
          "output_type": "stream",
          "text": [
            "\n",
            "Tabela de Horários - Lab 101\n",
            "Dia         | 08:00-10:00   | 10:00-12:00\n",
            "-----------------------------------------\n",
            "Segunda     | Introdução à Programação| Álgebra Linear |\n",
            "Terça       | Introdução à Computação| Programação Orientada a Objetos|\n",
            "Quarta      | Cálculo Diferencial| Cálculo Integral|\n",
            "Quinta      | Lógica de Programação| Geometria Analítica|\n",
            "Sexta       | Probabilidade e Estatística| Programação 1  |\n",
            "\n",
            "Tabela de Horários - Lab 102\n",
            "Dia         | 08:00-10:00   | 10:00-12:00\n",
            "-----------------------------------------\n",
            "Segunda     | Arquitetura de Computadores| Redes de Computadores|\n",
            "Terça       | Inteligência Artificial| Computação Gráfica|\n",
            "Quarta      | Segurança da Informação| Computação em Nuvem|\n",
            "Quinta      | Machine Learning| Arquitetura de Software|\n",
            "Sexta       | Machine Learning| Organização de Computadores|\n"
          ]
        }
      ],
      "source": [
        "print(\"\\n\\033[1mMelhor Alocação Encontrada:\\033[0m\")\n",
        "exibir_tabela(melhor_alocacao)\n",
        "\n",
        "# Verificação final\n",
        "print(\"\\n\\033[1mResumo:\\033[0m\")\n",
        "for lab in laboratorios:\n",
        "    count = sum(1 for (l,_,_),_ in melhor_alocacao.items() if l == lab)\n",
        "    print(f\"{lab}: {count} horários preenchidos de {len(dias)*len(horarios)} possíveis\")"
      ]
    }
  ],
  "metadata": {
    "colab": {
      "provenance": [],
      "authorship_tag": "ABX9TyMwnlwRWI1DOa5UPBqTLkFM",
      "include_colab_link": true
    },
    "kernelspec": {
      "display_name": "Python 3",
      "name": "python3"
    },
    "language_info": {
      "name": "python"
    }
  },
  "nbformat": 4,
  "nbformat_minor": 0
}