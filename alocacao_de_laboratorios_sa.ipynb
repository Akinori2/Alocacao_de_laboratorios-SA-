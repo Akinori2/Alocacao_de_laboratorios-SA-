{
  "nbformat": 4,
  "nbformat_minor": 0,
  "metadata": {
    "colab": {
      "provenance": [],
      "authorship_tag": "ABX9TyNGl6RtPxStvB76fmfcEDV5",
      "include_colab_link": true
    },
    "kernelspec": {
      "name": "python3",
      "display_name": "Python 3"
    },
    "language_info": {
      "name": "python"
    }
  },
  "cells": [
    {
      "cell_type": "markdown",
      "metadata": {
        "id": "view-in-github",
        "colab_type": "text"
      },
      "source": [
        "<a href=\"https://colab.research.google.com/github/Akinori2/Alocacao_de_laboratorios-SA-/blob/main/alocacao_de_laboratorios_sa.ipynb\" target=\"_parent\"><img src=\"https://colab.research.google.com/assets/colab-badge.svg\" alt=\"Open In Colab\"/></a>"
      ]
    },
    {
      "cell_type": "markdown",
      "source": [
        "Bibliotecas usadas"
      ],
      "metadata": {
        "id": "p8I1dxhcHoxz"
      }
    },
    {
      "cell_type": "code",
      "execution_count": null,
      "metadata": {
        "id": "nRSz7BbMmSB2"
      },
      "outputs": [],
      "source": [
        "import random\n",
        "import math"
      ]
    },
    {
      "cell_type": "markdown",
      "source": [
        "Dados das disciplinas (prioridade, período, tipo prática, etc.)"
      ],
      "metadata": {
        "id": "SoVYJDZdHrk4"
      }
    },
    {
      "cell_type": "code",
      "source": [
        "disciplinas = {\n",
        "    'Introdução à Programação': {'periodo': 1, 'alunos': 60, 'pratica': True, 'prioridade':2},\n",
        "    'Álgebra Linear': {'periodo': 2, 'alunos': 50, 'pratica': False, 'prioridade':1},\n",
        "    'Introdução à Computação': {'periodo': 2, 'alunos': 40, 'pratica': True, 'prioridade':2},\n",
        "    'Programação Orientada a Objetos': {'periodo': 3, 'alunos': 40, 'pratica': True, 'prioridade':2},\n",
        "    'Cálculo Diferencial': {'periodo': 2, 'alunos': 40, 'pratica': False, 'prioridade':1},\n",
        "    'Cálculo Integral': {'periodo': 2, 'alunos': 40, 'pratica': False, 'prioridade':1},\n",
        "    'Lógica de Programação': {'periodo': 4, 'alunos': 40, 'pratica': True, 'prioridade':2},\n",
        "    'Cálculo Integral': {'periodo': 4, 'alunos': 40, 'pratica': False, 'prioridade':1},\n",
        "    'Geometria Analítica': {'periodo': 5, 'alunos': 30, 'pratica': False, 'prioridade':1},\n",
        "    'Probabilidade e Estatística': {'periodo': 6, 'alunos': 30, 'pratica': False, 'prioridade':1},\n",
        "    'Programação 1': {'periodo': 1, 'alunos': 60, 'pratica': True, 'prioridade':3},\n",
        "    'Estruturas de Dados': {'periodo': 2, 'alunos': 50, 'pratica': True, 'prioridade':3},\n",
        "    'Algoritmos Avançados': {'periodo': 3, 'alunos': 40, 'pratica': True, 'prioridade':3},\n",
        "    'Banco de Dados': {'periodo': 4, 'alunos': 40, 'pratica': True, 'prioridade':3},\n",
        "    'Sistemas Operacionais': {'periodo': 5, 'alunos': 30, 'pratica': True, 'prioridade':2},\n",
        "    'Arquitetura de Software': {'periodo': 6, 'alunos': 30, 'pratica': True, 'prioridade':3},\n",
        "    'Engenharia de Software': {'periodo': 6, 'alunos': 30, 'pratica': True, 'prioridade':1},\n",
        "    'Arquitetura de Computadores': {'periodo': 7, 'alunos': 20, 'pratica': True, 'prioridade':1},\n",
        "    'Redes de Computadores': {'periodo': 8, 'alunos': 20, 'pratica': True, 'prioridade':3},\n",
        "    'Inteligência Artificial': {'periodo': 8, 'alunos': 10, 'pratica': True, 'prioridade':3},\n",
        "    'Computação Gráfica': {'periodo': 8, 'alunos': 10, 'pratica': True, 'prioridade':2},\n",
        "    'Segurança da Informação': {'periodo': 8, 'alunos': 10, 'pratica': True, 'prioridade':3},\n",
        "    'Fundamentos de Matemática Discreta': {'periodo': 1, 'alunos': 60, 'pratica': False, 'prioridade':1},\n",
        "    'Computação em Nuvem': {'periodo': 8, 'alunos': 10, 'pratica': True, 'prioridade':3},\n",
        "    'Organização de Computadores': {'periodo': 2, 'alunos': 50, 'pratica': True, 'prioridade':1},\n",
        "    'Machine Learning': {'periodo': 5, 'alunos': 20, 'pratica': True, 'prioridade':3},\n",
        "}"
      ],
      "metadata": {
        "id": "KPh4jRddmX9c"
      },
      "execution_count": null,
      "outputs": []
    },
    {
      "cell_type": "markdown",
      "source": [
        "Horários e dias disponíveis para alocação"
      ],
      "metadata": {
        "id": "4FAPCBe6Htjx"
      }
    },
    {
      "cell_type": "code",
      "source": [
        "horarios = ['08:00-10:00', '10:00-12:00']\n",
        "dias = ['Segunda', 'Terça', 'Quarta', 'Quinta', 'Sexta']"
      ],
      "metadata": {
        "id": "-0FI-gQFmlZ_"
      },
      "execution_count": null,
      "outputs": []
    },
    {
      "cell_type": "markdown",
      "source": [
        "Laboratórios disponíveis (capacidade e infraestrutura)"
      ],
      "metadata": {
        "id": "yqK3kebXHvyP"
      }
    },
    {
      "cell_type": "code",
      "source": [
        "laboratorios = {\n",
        "    'Lab 101': {'capacidade': 60, 'infraestrutura': 'básica'},\n",
        "    'Lab 102': {'capacidade': 25, 'infraestrutura': 'avançada'}\n",
        "}"
      ],
      "metadata": {
        "id": "gzDSP33o1gKx"
      },
      "execution_count": null,
      "outputs": []
    },
    {
      "cell_type": "markdown",
      "source": [
        "Classifica disciplinas por capacidade do laboratório"
      ],
      "metadata": {
        "id": "7c2A1pSxHyIa"
      }
    },
    {
      "cell_type": "code",
      "source": [
        "def classificar_disciplinas():\n",
        "    lab1_disciplinas = []\n",
        "    lab2_disciplinas = []\n",
        "\n",
        "    for nome, dados in disciplinas.items():\n",
        "        if dados['pratica'] and dados['alunos'] <= 25:\n",
        "            lab2_disciplinas.append(nome)\n",
        "        else:\n",
        "            lab1_disciplinas.append(nome)\n",
        "\n",
        "    return lab1_disciplinas, lab2_disciplinas"
      ],
      "metadata": {
        "id": "ddBuCN381j5o"
      },
      "execution_count": null,
      "outputs": []
    },
    {
      "cell_type": "markdown",
      "source": [
        "Gera solução inicial válida (sem conflitos)"
      ],
      "metadata": {
        "id": "_9y89S8RH0ed"
      }
    },
    {
      "cell_type": "code",
      "source": [
        "def gerar_solucao_inicial():\n",
        "    solucao = {}\n",
        "    lab1_disciplinas, lab2_disciplinas = classificar_disciplinas()\n",
        "\n",
        "    for dia in dias:\n",
        "        for horario in horarios:\n",
        "            if lab1_disciplinas:\n",
        "                solucao[('Lab 101', dia, horario)] = lab1_disciplinas.pop(0)\n",
        "            if lab2_disciplinas:\n",
        "                solucao[('Lab 102', dia, horario)] = lab2_disciplinas.pop(0)\n",
        "\n",
        "    return solucao"
      ],
      "metadata": {
        "id": "Gc9qgpbGmnLv"
      },
      "execution_count": null,
      "outputs": []
    },
    {
      "cell_type": "markdown",
      "source": [
        "Função de custo (soma das prioridades das disciplinas alocadas)"
      ],
      "metadata": {
        "id": "jXOtLHzjH2fn"
      }
    },
    {
      "cell_type": "code",
      "source": [
        "def calcular_custo(solucao):\n",
        "    custo = 0\n",
        "    for key, disciplina in solucao.items():\n",
        "        custo += disciplinas[disciplina]['prioridade']\n",
        "    return custo"
      ],
      "metadata": {
        "id": "lXEvHiqHmoZK"
      },
      "execution_count": null,
      "outputs": []
    },
    {
      "cell_type": "markdown",
      "source": [
        "Gera solução vizinha (troca aleatória de duas disciplinas)"
      ],
      "metadata": {
        "id": "VsUFpcn5H4nN"
      }
    },
    {
      "cell_type": "code",
      "source": [
        "def gerar_vizinho(solucao_atual):\n",
        "    vizinho = solucao_atual.copy()\n",
        "    chave1, chave2 = random.sample(list(vizinho.keys()), 2)\n",
        "    vizinho[chave1], vizinho[chave2] = vizinho[chave2], vizinho[chave1]\n",
        "    return vizinho"
      ],
      "metadata": {
        "id": "Wc8HtwQSmqCb"
      },
      "execution_count": null,
      "outputs": []
    },
    {
      "cell_type": "markdown",
      "source": [
        "Algoritmo Simulated Annealing (principal)"
      ],
      "metadata": {
        "id": "luZUsfvPIT8B"
      }
    },
    {
      "cell_type": "code",
      "source": [
        "def simulated_annealing(temp_inicial, resfriamento, iteracoes):\n",
        "    solucao_atual = gerar_solucao_inicial()\n",
        "    custo_atual = calcular_custo(solucao_atual)\n",
        "    melhor_solucao = solucao_atual.copy()\n",
        "    melhor_custo = custo_atual\n",
        "    temperatura = temp_inicial\n",
        "\n",
        "    # Critério de aceitação (Melhora OU probabilidade controlada por temperatura)\n",
        "    for _ in range(iteracoes):\n",
        "        vizinho = gerar_vizinho(solucao_atual)\n",
        "        custo_vizinho = calcular_custo(vizinho)\n",
        "\n",
        "        if custo_vizinho < custo_atual or random.uniform(0, 1) < math.exp((custo_atual - custo_vizinho) / temperatura):\n",
        "            solucao_atual = vizinho.copy()\n",
        "            custo_atual = custo_vizinho\n",
        "\n",
        "            if custo_vizinho < melhor_custo:\n",
        "                melhor_solucao = vizinho.copy()\n",
        "                melhor_custo = custo_vizinho\n",
        "        # Resfriamento exponencial\n",
        "        temperatura *= resfriamento\n",
        "\n",
        "    return melhor_solucao, melhor_custo"
      ],
      "metadata": {
        "id": "1BC0MOe3msgS"
      },
      "execution_count": null,
      "outputs": []
    },
    {
      "cell_type": "markdown",
      "source": [
        "Preenche horários não alocados (opcional - pode gerar conflitos)"
      ],
      "metadata": {
        "id": "lzygyO9Q5OhZ"
      }
    },
    {
      "cell_type": "code",
      "source": [
        "def preencher_horarios_vagos(solucao):\n",
        "    todas_disciplinas = list(disciplinas.keys())\n",
        "    for lab in laboratorios:\n",
        "        for dia in dias:\n",
        "            for horario in horarios:\n",
        "                if (lab, dia, horario) not in solucao:\n",
        "                    solucao[(lab, dia, horario)] = random.choice(todas_disciplinas)\n",
        "    return solucao"
      ],
      "metadata": {
        "id": "nXRquBdK5P08"
      },
      "execution_count": null,
      "outputs": []
    },
    {
      "cell_type": "markdown",
      "source": [
        "Exibe a grade horária formatada"
      ],
      "metadata": {
        "id": "kX8fVgrvIl6H"
      }
    },
    {
      "cell_type": "code",
      "source": [
        "def exibir_tabela(alocacao):\n",
        "    for lab in laboratorios:\n",
        "        print(f\"\\nTabela de Horários - {lab}\")\n",
        "        print(\"Dia         | 08:00-10:00   | 10:00-12:00\")\n",
        "        print(\"-----------------------------------------\")\n",
        "        for dia in dias:\n",
        "            linha = f\"{dia:<12}|\"\n",
        "            for horario in horarios:\n",
        "                disciplina = alocacao.get((lab, dia, horario), \"Vago\")\n",
        "                linha += f\" {disciplina:<15}|\"\n",
        "            print(linha)"
      ],
      "metadata": {
        "id": "ViK4BFxYm1uF"
      },
      "execution_count": null,
      "outputs": []
    },
    {
      "cell_type": "markdown",
      "source": [
        "Parâmetros do SA (ajustáveis)"
      ],
      "metadata": {
        "id": "R_q6FLTaItGj"
      }
    },
    {
      "cell_type": "code",
      "source": [
        "temp_inicial = 5000       # Temperatura inicial alta\n",
        "resfriamento = 1.00001    # Resfriamento lento\n",
        "iteracoes = 5000          # Número de iterações"
      ],
      "metadata": {
        "id": "hpgjd3s5IpAO"
      },
      "execution_count": null,
      "outputs": []
    },
    {
      "cell_type": "markdown",
      "source": [
        "Execução e exibição"
      ],
      "metadata": {
        "id": "SKiUBFa2Iwvu"
      }
    },
    {
      "cell_type": "code",
      "source": [
        "melhor_alocacao, melhor_custo = simulated_annealing(temp_inicial, resfriamento, iteracoes)\n",
        "melhor_alocacao = preencher_horarios_vagos(melhor_alocacao)\n",
        "exibir_tabela(melhor_alocacao)"
      ],
      "metadata": {
        "colab": {
          "base_uri": "https://localhost:8080/"
        },
        "id": "q3SHHR5Am3J4",
        "outputId": "318dd278-ea1b-46be-9e37-0d358590d060"
      },
      "execution_count": null,
      "outputs": [
        {
          "output_type": "stream",
          "name": "stdout",
          "text": [
            "\n",
            "Tabela de Horários - Lab 101\n",
            "Dia         | 08:00-10:00   | 10:00-12:00\n",
            "-----------------------------------------\n",
            "Segunda     | Introdução à Programação| Álgebra Linear |\n",
            "Terça       | Introdução à Computação| Programação Orientada a Objetos|\n",
            "Quarta      | Cálculo Diferencial| Cálculo Integral|\n",
            "Quinta      | Lógica de Programação| Geometria Analítica|\n",
            "Sexta       | Probabilidade e Estatística| Programação 1  |\n",
            "\n",
            "Tabela de Horários - Lab 102\n",
            "Dia         | 08:00-10:00   | 10:00-12:00\n",
            "-----------------------------------------\n",
            "Segunda     | Arquitetura de Computadores| Redes de Computadores|\n",
            "Terça       | Inteligência Artificial| Computação Gráfica|\n",
            "Quarta      | Segurança da Informação| Computação em Nuvem|\n",
            "Quinta      | Machine Learning| Arquitetura de Software|\n",
            "Sexta       | Machine Learning| Organização de Computadores|\n"
          ]
        }
      ]
    }
  ]
}